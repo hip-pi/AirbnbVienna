{
 "cells": [
  {
   "cell_type": "markdown",
   "metadata": {},
   "source": [
    "# Airbnb-hintaennustin \n",
    "\n",
    "#### Johdatus datatieteeseen 2019 syksy,  harjoitustyö, Tapio Vaaranmaa (54338)\n",
    "\n"
   ]
  },
  {
   "cell_type": "markdown",
   "metadata": {},
   "source": [
    "### 1. Kehitysympäristö\n",
    "\n",
    "Hintaennustin tehtiin Python-koodilla Jupyter Notebooks -työkalun avulla. Myös dokumentaation kirjoitin suoraan Jupyter Notebook -tiedostoon Markdown-soluihin.  Kehitysympäristöksi asensin omaan kannettavaan tietokoneeseeni Jupyter Notebooksin sisältävän Anaconda-alustan (2019-10, Anaconda Navigator 1.9.7). Anaconda on erityisesti datatieteeseen ja koneoppiseen soveltuva ja runsaasti käytetty avoin Python- ja R-alusta, jota on helppo laajentaa Conda-paketinhallintatyökalulla. Anaconda Navigator on Anaconda-alustan graafinen käyttöliittymä, jolla voi luoda ja hallita erillisiä ympäristöjä sekä käynnistää valittuun ympäristöön asennettuja sovelluksia. Jupyter Notebook on selaimella käytettävä web-sovellus. Sitä käytetään aina selaimesta siitä riippumatta, onko sen palvelin paikallisella tietokoneella vai verkon takana.\n",
    "\n",
    "Käyttöjärjestelmänä on Ubuntu 18.04 Linux, ja harjoitustyön julkaisualustana on [GitHub-repositorio](https://github.com/hip-pi/AirbnbVienna.git). Editorina käytin Visual Studio Codea ja vanhaa kunnon Emacsia, joskaan niitä ei juurikaan tarvinnut, sillä lähes kaiken sai kätevästi tehtyä suoraan Jupyter Notebookilla.  Asentamani Anaconda-distribuution Pythonin versio on 3.7.4 ja Jupyter Notebookin versio on 6.0.1. \n",
    "\n",
    "Asennuksessa tuli vähän sekoiltua, kun asensin ensin Pythonin uuden version suoraan ja sain koko käyttöjärjestelmän sekaisin määrittelemällä tämän uuden Python-tulkin oletustulkiksi: terminaaliohjelmakaan ei enää käynnistynyt. Tämä johtui siitä, että Linux-käyttöjärjestelmässä käynnistetään kaikenlaista Pythonin avulla ja tämä koodi on vanhempaa Pythonia, joten kaikki ei enää käynnistynyt käyttöjärjestelmässä kuten pitäisi. Tämä asennus oli kaiken lisäksi ihan turha, sillä Anacondan mukana tulee tarvittava Python-ympäristökin. Poistin tuhan asennuksen ja asensin Anacondan ohjeiden mukaisesti. Linuxiin asentaminen ei ole ihan niin suoraviivaista kuin Windowsiin, mutta netistä löytyneiden [ohjeiden](https://www.digitalocean.com/community/tutorials/how-to-install-the-anaconda-python-distribution-on-ubuntu-18-04) avulla se sujui kuitenkin kohtuullisen kivuttomasti.\n",
    "\n",
    "Toinen varteenotettava vaihtoehto olisi ollut käyttää Jypyter Notebook -sovellusta CSC Notebooks -pilvipalvelun aikarajoitetutussa virtuaalikoneessa kuten koodiklinikalla tehtiin. Päädyin kuitenkin asentamaan tarvittavat ohjelmat omaan kannettavaan tietokoneeseeni, sillä sitä olisin kuitenkin käyttänyt, vaikka sovellusta olisikin ajettu verkon yli. Tämän vuoksi helpointa oli tehdä kaikki suoraan paikallisesti omalla koneella, ja näin ympäristökin jää minulle talteen."
   ]
  },
  {
   "cell_type": "markdown",
   "metadata": {},
   "source": [
    "### 2. Datan kerääminen ja tarkastelu\n",
    "Päätin käyttää  [Inside Airbnb](http://insideairbnb.com/) -datasettiä. Olisi ollut mielenkiintoisempaa tutkia jotain muuta data-aineistoa, mutta kurssi oli pakko jo saada pakettiin mahdollisimman pian ja siksi päätin valita tämän valmiin ja harjoituksista tutun datasetin. Tutkittavaksi kaupungiksi valitsin Wienin, sillä kaikki minulle tutummat kaupungit oli jo valittu tutkittavaksi. Minulle tutummista Budapestistä ja Etelä-Ranskan kaupungeista ei ollut data-aineistoa tässä datasetissä, enkä halunnut valita myöskään harjoituksissa käsiteltyä Berliiniä. Wien oli ainoa käsittelemätön kaupunki, josta minulla oli ennestään edes joku käsitys.\n",
    "\n",
    "Inside Airbnb -datasetissä on Wienistä tallennettuna tiedostot listings.csv.gz, calendar.csv.gz, reviews.csv.gz, listings.csv, reviews.csv, neighbourhoods.csv ja neighbourhoods.geojson. Näistä ensimmäinen on mielenkiintoisin sisältäen yksityiskohtaista tietoa varauskohteista, toinen sisältää yksityiskohtaisen varauskalenterin ja kolmas kohteiden tekstimuotoisia arviointeja. Kaksi pakkaamatonta tiedostoa ovat vastaavien pakattujen tiedostojen yhteenvetoja ja viimeinen tiedosto sisältää tiedostossa neighbourhoods.csv lueteltujen kaupunginosien paikkatietoja. Dataa oli yli 10 tuhannesta kohteesta, joten sitä oli riittävästi, ja tiedot oli päivitetty viimeksi 19.11. 2019, joten data lienee ajantasaista ja luotettavaa.\n",
    "\n",
    "Harjoitustyön pohjana käytin Nick Amaton blogia [Airbnb price predictor](https://mapr.com/blog/predicting-airbnb-listing-prices-scikit-learn-and-apache-spark/). Ihan ensimmäisenä otetaan käyttöön datan keräämiseen, jalostamiseen, kuvailemiseen sekä koneoppimisessa tarvittavia kirjastoja. Tutustuin aluksi tiedostojen tiedostot listings.csv.gz, calendar.csv.gz, reviews.csv.gz sisältöihin lukemalla ne Pandas-kirjaston dataframeiksi. Listings-dataframe sisälsi yhteensä 106 eri saraketta kohdeindeksi mukaan lukien. Reviews-dataframessa ainoa varsinainen tietosarake sisälsi tekstimuotoisia arvosteluja, joiden hyödyntäminen olisi ollut varsin vaikeaa tässä työssä. En myöskään kokenut tarpeelliseksi käyttää Calendar-dataframen tietoja hintaennustimessa, sillä sen sisältämät tulevaisuuden varaustiedot ja hintapyynnöt eivät tuntuneet ennusteen kannalta relevanteilta selittäjiltä. Tämän vuoksi päätin käyttää ennustimessa vain listings-titoja ja pitäytyä alkuperäisen esimerkin sarakevalinnoissa. Otin kuitenkin lisäksi mukaan avainkentän ’id’ siltä varalta, että haluaisin kuitenkin myöhemmin hyödyntää calendar- tai reviews-tietoja."
   ]
  },
  {
   "cell_type": "code",
   "execution_count": 1,
   "metadata": {},
   "outputs": [],
   "source": [
    "%matplotlib inline\n",
    "import pandas as pd\n",
    "import numpy as np\n",
    "from sklearn import ensemble\n",
    "from sklearn import linear_model\n",
    "from sklearn.model_selection import learning_curve,GridSearchCV\n",
    "from sklearn import preprocessing\n",
    "from sklearn.model_selection import train_test_split\n",
    "import sklearn.metrics as metrics\n",
    "import matplotlib.pyplot as plt\n",
    "from collections import Counter"
   ]
  },
  {
   "cell_type": "code",
   "execution_count": 2,
   "metadata": {},
   "outputs": [],
   "source": [
    "listings_file = 'http://data.insideairbnb.com/austria/vienna/vienna/2019-11-19/data/listings.csv.gz'\n",
    "calendar_file = 'http://data.insideairbnb.com/austria/vienna/vienna/2019-11-19/data/calendar.csv.gz'\n",
    "reviews_file  = 'http://data.insideairbnb.com/austria/vienna/vienna/2019-11-19/data/reviews.csv.gz'\n"
   ]
  },
  {
   "cell_type": "code",
   "execution_count": 3,
   "metadata": {},
   "outputs": [],
   "source": [
    "df_c = pd.read_csv(calendar_file, compression='gzip')"
   ]
  },
  {
   "cell_type": "code",
   "execution_count": 4,
   "metadata": {
    "scrolled": true
   },
   "outputs": [
    {
     "data": {
      "text/html": [
       "<div>\n",
       "<style scoped>\n",
       "    .dataframe tbody tr th:only-of-type {\n",
       "        vertical-align: middle;\n",
       "    }\n",
       "\n",
       "    .dataframe tbody tr th {\n",
       "        vertical-align: top;\n",
       "    }\n",
       "\n",
       "    .dataframe thead th {\n",
       "        text-align: right;\n",
       "    }\n",
       "</style>\n",
       "<table border=\"1\" class=\"dataframe\">\n",
       "  <thead>\n",
       "    <tr style=\"text-align: right;\">\n",
       "      <th></th>\n",
       "      <th>listing_id</th>\n",
       "      <th>date</th>\n",
       "      <th>available</th>\n",
       "      <th>price</th>\n",
       "      <th>adjusted_price</th>\n",
       "      <th>minimum_nights</th>\n",
       "      <th>maximum_nights</th>\n",
       "    </tr>\n",
       "  </thead>\n",
       "  <tbody>\n",
       "    <tr>\n",
       "      <td>0</td>\n",
       "      <td>15883</td>\n",
       "      <td>2019-11-20</td>\n",
       "      <td>f</td>\n",
       "      <td>$106.00</td>\n",
       "      <td>$106.00</td>\n",
       "      <td>1</td>\n",
       "      <td>999</td>\n",
       "    </tr>\n",
       "    <tr>\n",
       "      <td>1</td>\n",
       "      <td>532596</td>\n",
       "      <td>2019-11-20</td>\n",
       "      <td>f</td>\n",
       "      <td>$160.00</td>\n",
       "      <td>$160.00</td>\n",
       "      <td>28</td>\n",
       "      <td>100</td>\n",
       "    </tr>\n",
       "    <tr>\n",
       "      <td>2</td>\n",
       "      <td>532596</td>\n",
       "      <td>2019-11-21</td>\n",
       "      <td>f</td>\n",
       "      <td>$160.00</td>\n",
       "      <td>$160.00</td>\n",
       "      <td>28</td>\n",
       "      <td>100</td>\n",
       "    </tr>\n",
       "    <tr>\n",
       "      <td>3</td>\n",
       "      <td>532596</td>\n",
       "      <td>2019-11-22</td>\n",
       "      <td>t</td>\n",
       "      <td>$160.00</td>\n",
       "      <td>$160.00</td>\n",
       "      <td>28</td>\n",
       "      <td>100</td>\n",
       "    </tr>\n",
       "    <tr>\n",
       "      <td>4</td>\n",
       "      <td>532596</td>\n",
       "      <td>2019-11-23</td>\n",
       "      <td>t</td>\n",
       "      <td>$160.00</td>\n",
       "      <td>$160.00</td>\n",
       "      <td>28</td>\n",
       "      <td>100</td>\n",
       "    </tr>\n",
       "  </tbody>\n",
       "</table>\n",
       "</div>"
      ],
      "text/plain": [
       "   listing_id        date available    price adjusted_price  minimum_nights  \\\n",
       "0       15883  2019-11-20         f  $106.00        $106.00               1   \n",
       "1      532596  2019-11-20         f  $160.00        $160.00              28   \n",
       "2      532596  2019-11-21         f  $160.00        $160.00              28   \n",
       "3      532596  2019-11-22         t  $160.00        $160.00              28   \n",
       "4      532596  2019-11-23         t  $160.00        $160.00              28   \n",
       "\n",
       "   maximum_nights  \n",
       "0             999  \n",
       "1             100  \n",
       "2             100  \n",
       "3             100  \n",
       "4             100  "
      ]
     },
     "execution_count": 4,
     "metadata": {},
     "output_type": "execute_result"
    }
   ],
   "source": [
    "df_c.head()"
   ]
  },
  {
   "cell_type": "code",
   "execution_count": 5,
   "metadata": {},
   "outputs": [],
   "source": [
    "df_r = pd.read_csv(reviews_file, compression='gzip')"
   ]
  },
  {
   "cell_type": "code",
   "execution_count": 6,
   "metadata": {},
   "outputs": [
    {
     "data": {
      "text/html": [
       "<div>\n",
       "<style scoped>\n",
       "    .dataframe tbody tr th:only-of-type {\n",
       "        vertical-align: middle;\n",
       "    }\n",
       "\n",
       "    .dataframe tbody tr th {\n",
       "        vertical-align: top;\n",
       "    }\n",
       "\n",
       "    .dataframe thead th {\n",
       "        text-align: right;\n",
       "    }\n",
       "</style>\n",
       "<table border=\"1\" class=\"dataframe\">\n",
       "  <thead>\n",
       "    <tr style=\"text-align: right;\">\n",
       "      <th></th>\n",
       "      <th>listing_id</th>\n",
       "      <th>id</th>\n",
       "      <th>date</th>\n",
       "      <th>reviewer_id</th>\n",
       "      <th>reviewer_name</th>\n",
       "      <th>comments</th>\n",
       "    </tr>\n",
       "  </thead>\n",
       "  <tbody>\n",
       "    <tr>\n",
       "      <td>0</td>\n",
       "      <td>15883</td>\n",
       "      <td>29643839</td>\n",
       "      <td>2015-04-10</td>\n",
       "      <td>30537860</td>\n",
       "      <td>Robert</td>\n",
       "      <td>If you need a clean, comfortable place to stay...</td>\n",
       "    </tr>\n",
       "    <tr>\n",
       "      <td>1</td>\n",
       "      <td>15883</td>\n",
       "      <td>80590019</td>\n",
       "      <td>2016-06-19</td>\n",
       "      <td>37529754</td>\n",
       "      <td>Chuang</td>\n",
       "      <td>It's so nice to be in the house! It's a peace ...</td>\n",
       "    </tr>\n",
       "  </tbody>\n",
       "</table>\n",
       "</div>"
      ],
      "text/plain": [
       "   listing_id        id        date  reviewer_id reviewer_name  \\\n",
       "0       15883  29643839  2015-04-10     30537860        Robert   \n",
       "1       15883  80590019  2016-06-19     37529754        Chuang   \n",
       "\n",
       "                                            comments  \n",
       "0  If you need a clean, comfortable place to stay...  \n",
       "1  It's so nice to be in the house! It's a peace ...  "
      ]
     },
     "execution_count": 6,
     "metadata": {},
     "output_type": "execute_result"
    }
   ],
   "source": [
    "df_r.head(2)"
   ]
  },
  {
   "cell_type": "code",
   "execution_count": 7,
   "metadata": {},
   "outputs": [],
   "source": [
    "df = pd.read_csv(listings_file, compression='gzip')"
   ]
  },
  {
   "cell_type": "code",
   "execution_count": 8,
   "metadata": {},
   "outputs": [
    {
     "name": "stdout",
     "output_type": "stream",
     "text": [
      "Index(['id', 'listing_url', 'scrape_id', 'last_scraped', 'name', 'summary',\n",
      "       'space', 'description', 'experiences_offered', 'neighborhood_overview',\n",
      "       'notes', 'transit', 'access', 'interaction', 'house_rules',\n",
      "       'thumbnail_url', 'medium_url', 'picture_url', 'xl_picture_url',\n",
      "       'host_id', 'host_url', 'host_name', 'host_since', 'host_location',\n",
      "       'host_about', 'host_response_time', 'host_response_rate',\n",
      "       'host_acceptance_rate', 'host_is_superhost', 'host_thumbnail_url',\n",
      "       'host_picture_url', 'host_neighbourhood', 'host_listings_count',\n",
      "       'host_total_listings_count', 'host_verifications',\n",
      "       'host_has_profile_pic', 'host_identity_verified', 'street',\n",
      "       'neighbourhood', 'neighbourhood_cleansed',\n",
      "       'neighbourhood_group_cleansed', 'city', 'state', 'zipcode', 'market',\n",
      "       'smart_location', 'country_code', 'country', 'latitude', 'longitude'],\n",
      "      dtype='object')\n",
      "Index(['is_location_exact', 'property_type', 'room_type', 'accommodates',\n",
      "       'bathrooms', 'bedrooms', 'beds', 'bed_type', 'amenities', 'square_feet',\n",
      "       'price', 'weekly_price', 'monthly_price', 'security_deposit',\n",
      "       'cleaning_fee', 'guests_included', 'extra_people', 'minimum_nights',\n",
      "       'maximum_nights', 'minimum_minimum_nights', 'maximum_minimum_nights',\n",
      "       'minimum_maximum_nights', 'maximum_maximum_nights',\n",
      "       'minimum_nights_avg_ntm', 'maximum_nights_avg_ntm', 'calendar_updated',\n",
      "       'has_availability', 'availability_30', 'availability_60',\n",
      "       'availability_90', 'availability_365', 'calendar_last_scraped',\n",
      "       'number_of_reviews', 'number_of_reviews_ltm', 'first_review',\n",
      "       'last_review', 'review_scores_rating', 'review_scores_accuracy',\n",
      "       'review_scores_cleanliness', 'review_scores_checkin',\n",
      "       'review_scores_communication', 'review_scores_location',\n",
      "       'review_scores_value', 'requires_license', 'license',\n",
      "       'jurisdiction_names', 'instant_bookable', 'is_business_travel_ready',\n",
      "       'cancellation_policy', 'require_guest_profile_picture',\n",
      "       'require_guest_phone_verification', 'calculated_host_listings_count',\n",
      "       'calculated_host_listings_count_entire_homes',\n",
      "       'calculated_host_listings_count_private_rooms',\n",
      "       'calculated_host_listings_count_shared_rooms', 'reviews_per_month'],\n",
      "      dtype='object')\n"
     ]
    },
    {
     "data": {
      "text/plain": [
       "12615"
      ]
     },
     "execution_count": 8,
     "metadata": {},
     "output_type": "execute_result"
    }
   ],
   "source": [
    "print(df.columns[0:50])\n",
    "print(df.columns[50:106])\n",
    "len(df)"
   ]
  },
  {
   "cell_type": "code",
   "execution_count": 9,
   "metadata": {},
   "outputs": [],
   "source": [
    "cols = ['id',\n",
    "        'price',\n",
    "        'accommodates',\n",
    "        'bedrooms',\n",
    "        'beds',\n",
    "        'neighbourhood_cleansed',\n",
    "        'room_type',\n",
    "        'cancellation_policy',\n",
    "        'instant_bookable',\n",
    "        'reviews_per_month',\n",
    "        'number_of_reviews',\n",
    "        'availability_30',\n",
    "        'review_scores_rating'\n",
    "        ]\n",
    "\n",
    "# read the file into a dataframe\n",
    "df = pd.read_csv(listings_file, compression='gzip', encoding='utf-8', usecols=cols)"
   ]
  },
  {
   "cell_type": "code",
   "execution_count": 14,
   "metadata": {},
   "outputs": [
    {
     "name": "stdout",
     "output_type": "stream",
     "text": [
      "      id neighbourhood_cleansed        room_type  accommodates  bedrooms  \\\n",
      "0  15883             Donaustadt       Hotel room             3       1.0   \n",
      "1  38768           Leopoldstadt  Entire home/apt             5       1.0   \n",
      "2  40625   Rudolfsheim-Fnfhaus  Entire home/apt             6       2.0   \n",
      "3  51287           Leopoldstadt  Entire home/apt             3       0.0   \n",
      "4  70568             Donaustadt  Entire home/apt             2       1.0   \n",
      "\n",
      "   beds    price  availability_30  number_of_reviews  review_scores_rating  \\\n",
      "0   1.0   $85.00               21                 10                  96.0   \n",
      "1   3.0   $65.00               10                303                  95.0   \n",
      "2   4.0  $130.00               19                149                  97.0   \n",
      "3   2.0   $60.00                9                281                  92.0   \n",
      "4   1.0   $59.00               30                 10                  94.0   \n",
      "\n",
      "  instant_bookable          cancellation_policy  reviews_per_month  \n",
      "0                t                     moderate               0.18  \n",
      "1                f  strict_14_with_grace_period               2.87  \n",
      "2                t                     moderate               1.32  \n",
      "3                f  strict_14_with_grace_period               2.62  \n",
      "4                f  strict_14_with_grace_period               0.10  \n"
     ]
    }
   ],
   "source": [
    "print(df.head())"
   ]
  },
  {
   "cell_type": "markdown",
   "metadata": {},
   "source": [
    "Tarkastellessani dataframen sisältöä, huomasin, että osa sarakkeen ’ neighbourhood_cleansed’ merkeistä jää tulostumatta oikein. Tämän ongelman selvittämiseksi ja korjaamiseksi piti tehdä vähän lisätarkasteluja."
   ]
  },
  {
   "cell_type": "code",
   "execution_count": 10,
   "metadata": {},
   "outputs": [
    {
     "data": {
      "text/plain": [
       "array(['Donaustadt', 'Leopoldstadt', 'Rudolfsheim-F\\x9fnfhaus',\n",
       "       'Ottakring', 'Brigittenau', 'Neubau', 'Margareten', 'Hernals',\n",
       "       'Floridsdorf', 'Simmering', 'Wieden', 'Alsergrund', 'Innere Stadt',\n",
       "       'Mariahilf', 'Meidling', 'Josefstadt', 'Landstra§e', 'Favoriten',\n",
       "       'W\\x8ahring', 'Penzing', 'D\\x9abling', 'Liesing', 'Hietzing'],\n",
       "      dtype=object)"
      ]
     },
     "execution_count": 10,
     "metadata": {},
     "output_type": "execute_result"
    }
   ],
   "source": [
    "df.neighbourhood_cleansed.unique()"
   ]
  },
  {
   "cell_type": "code",
   "execution_count": 11,
   "metadata": {},
   "outputs": [
    {
     "data": {
      "text/plain": [
       "array(['Donaustadt', 'Leopoldstadt', 'Rudolfsheim-Fünfhaus', 'Ottakring',\n",
       "       'Brigittenau', 'Neubau', 'Margareten', 'Hernals', 'Floridsdorf',\n",
       "       'Simmering', 'Wieden', 'Alsergrund', 'Innere Stadt', 'Mariahilf',\n",
       "       'Meidling', 'Josefstadt', 'Landstraße', 'Favoriten', 'Währing',\n",
       "       'Penzing', 'Döbling', 'Liesing', 'Heitzing', nan], dtype=object)"
      ]
     },
     "execution_count": 11,
     "metadata": {},
     "output_type": "execute_result"
    }
   ],
   "source": [
    "df1 = pd.read_csv(listings_file, compression='gzip', encoding='utf-8', usecols=['neighbourhood'])\n",
    "df1.neighbourhood.unique()"
   ]
  },
  {
   "cell_type": "markdown",
   "metadata": {},
   "source": [
    "Tarkasteltuani muiden sarakkeiden sisältöjä huomasin, että sarakkeen ’ neighbourhood_cleansed’ merkit on koodattu eri tavalla kuin muiden sarakkeiden merkit. Muualla koodaus oli utf-8, mutta sarakkeessa ’ neighbourhood_cleansed’ oli varsin epämääräinen koodaus. Koodaus vaikutti olevan muuten utf-8, mutta umlaut-merkien ja ß -merkin jälkimmäinen tavu näytti olevan mac_roman-koodauksen vastaava tavukoodi. Korjasin nämä virheelliset merkit metodin replace avulla, minkä jälkeen sarakkeen ’neighbourhood_cleansed’ näytti taas järkevältä ja kaupunginosien nimet tulostuivat siinä oikein.\n",
    "\n",
    "Tämän asian ymmärtämiseen kului käsittämättömän paljon aikaa, sillä ensin luulin koko tiedoston merkkikoodauksen olevan joku erikoisempi, mutta mitään sopivaa ei löytynyt. Selitys löytyi vasta, kun aloin tutkia merkkijonojen tavusisältöä. Sitäkään tehdessä ei ensimmäisenä tule mieleen, että koodaus mennyt sekaisin, mutta mitään muuta selitystä en keksinyt. Muidenkin saksakielisten kaupunkien tiedostoja katselin enkä löytänyt niistä samaa ongelmaa."
   ]
  },
  {
   "cell_type": "code",
   "execution_count": 12,
   "metadata": {},
   "outputs": [
    {
     "data": {
      "text/plain": [
       "array(['Donaustadt', 'Leopoldstadt', 'Rudolfsheim-Fünfhaus', 'Ottakring',\n",
       "       'Brigittenau', 'Neubau', 'Margareten', 'Hernals', 'Floridsdorf',\n",
       "       'Simmering', 'Wieden', 'Alsergrund', 'Innere Stadt', 'Mariahilf',\n",
       "       'Meidling', 'Josefstadt', 'Landstraße', 'Favoriten', 'Währing',\n",
       "       'Penzing', 'Döbling', 'Liesing', 'Hietzing'], dtype=object)"
      ]
     },
     "execution_count": 12,
     "metadata": {},
     "output_type": "execute_result"
    }
   ],
   "source": [
    "df['neighbourhood_cleansed'] = \\\n",
    "    df['neighbourhood_cleansed'].replace(['\\u008A','\\u009A','\\u009F','\\u0080','\\u0085','\\u0086','\\u00A7'], \\\n",
    "                                         ['ä','ö','ü','Ä','Ö','Ü','ß'], regex=True)\n",
    "df.neighbourhood_cleansed.unique()"
   ]
  },
  {
   "cell_type": "markdown",
   "metadata": {},
   "source": [
    "Talletetaan dataframe tiedostoon, jotta sen sisältöä voi halutessaan tarkastella myös muilla työkaluilla (esimerkiksi taulukkolaskentaohjelmalla)."
   ]
  },
  {
   "cell_type": "code",
   "execution_count": 13,
   "metadata": {},
   "outputs": [
    {
     "data": {
      "text/plain": [
       "12615"
      ]
     },
     "execution_count": 13,
     "metadata": {},
     "output_type": "execute_result"
    }
   ],
   "source": [
    "df.to_csv('data.csv')\n",
    "\n",
    "len(df.index)"
   ]
  },
  {
   "cell_type": "markdown",
   "metadata": {},
   "source": [
    "Kenttä ’ neighbourhood_cleansed’ sisältää kohteen kaupunginosan osan nimen. Kun tarkastellaan sen jakaumaa, havaitaan jakauman olevan Wienin datassa yllättävän tasainen: vain yhdessä kaupunginosassa on alle 100 kohdetta ja enimmillään kohteita on 1300. Kaupunginosia on yhteensä 23, joten kaupunginosajakokaan ei ole liian tarkka. Tämä kenttä vaikuttaa tässä aineistossa varsin käyttökelpoiselta, sillä eri kaupunginosista on varsin mukavasti rivejä. Esimerkissä käyytetty San Franciscon data oli paljon epätasaisemmin jakautunut."
   ]
  },
  {
   "cell_type": "code",
   "execution_count": 14,
   "metadata": {},
   "outputs": [],
   "source": [
    "nb_counts = Counter(df.neighbourhood_cleansed)\n",
    "tdf = pd.DataFrame.from_dict(nb_counts, orient='index').sort_values(by=0)"
   ]
  },
  {
   "cell_type": "code",
   "execution_count": 15,
   "metadata": {},
   "outputs": [
    {
     "data": {
      "text/plain": [
       "<matplotlib.axes._subplots.AxesSubplot at 0x7fcded0f8e50>"
      ]
     },
     "execution_count": 15,
     "metadata": {},
     "output_type": "execute_result"
    },
    {
     "data": {
      "image/png": "[encoded data removed]",
      "text/plain": [
       "<Figure size 1440x360 with 1 Axes>"
      ]
     },
     "metadata": {
      "needs_background": "light"
     },
     "output_type": "display_data"
    }
   ],
   "source": [
    "# Redefining visualization width\n",
    "plt.rcParams[\"figure.figsize\"] = [20, 5]\n",
    "tdf.plot(kind='bar')"
   ]
  },
  {
   "cell_type": "code",
   "execution_count": 16,
   "metadata": {},
   "outputs": [
    {
     "data": {
      "text/plain": [
       "23"
      ]
     },
     "execution_count": 16,
     "metadata": {},
     "output_type": "execute_result"
    }
   ],
   "source": [
    "len(nb_counts)"
   ]
  },
  {
   "cell_type": "code",
   "execution_count": 17,
   "metadata": {},
   "outputs": [
    {
     "data": {
      "text/plain": [
       "Index(['count'], dtype='object')"
      ]
     },
     "execution_count": 17,
     "metadata": {},
     "output_type": "execute_result"
    }
   ],
   "source": [
    "df_nb = pd.DataFrame.from_dict(nb_counts, orient='index', columns=['count'])\n",
    "df_nb.columns"
   ]
  },
  {
   "cell_type": "code",
   "execution_count": 18,
   "metadata": {
    "scrolled": true
   },
   "outputs": [
    {
     "data": {
      "text/html": [
       "<div>\n",
       "<style scoped>\n",
       "    .dataframe tbody tr th:only-of-type {\n",
       "        vertical-align: middle;\n",
       "    }\n",
       "\n",
       "    .dataframe tbody tr th {\n",
       "        vertical-align: top;\n",
       "    }\n",
       "\n",
       "    .dataframe thead th {\n",
       "        text-align: right;\n",
       "    }\n",
       "</style>\n",
       "<table border=\"1\" class=\"dataframe\">\n",
       "  <thead>\n",
       "    <tr style=\"text-align: right;\">\n",
       "      <th></th>\n",
       "      <th>count</th>\n",
       "    </tr>\n",
       "  </thead>\n",
       "  <tbody>\n",
       "    <tr>\n",
       "      <td>Leopoldstadt</td>\n",
       "      <td>1332</td>\n",
       "    </tr>\n",
       "    <tr>\n",
       "      <td>Landstraße</td>\n",
       "      <td>1135</td>\n",
       "    </tr>\n",
       "    <tr>\n",
       "      <td>Alsergrund</td>\n",
       "      <td>853</td>\n",
       "    </tr>\n",
       "    <tr>\n",
       "      <td>Rudolfsheim-Fünfhaus</td>\n",
       "      <td>832</td>\n",
       "    </tr>\n",
       "    <tr>\n",
       "      <td>Margareten</td>\n",
       "      <td>784</td>\n",
       "    </tr>\n",
       "    <tr>\n",
       "      <td>Neubau</td>\n",
       "      <td>777</td>\n",
       "    </tr>\n",
       "    <tr>\n",
       "      <td>Innere Stadt</td>\n",
       "      <td>719</td>\n",
       "    </tr>\n",
       "    <tr>\n",
       "      <td>Favoriten</td>\n",
       "      <td>673</td>\n",
       "    </tr>\n",
       "    <tr>\n",
       "      <td>Mariahilf</td>\n",
       "      <td>631</td>\n",
       "    </tr>\n",
       "    <tr>\n",
       "      <td>Ottakring</td>\n",
       "      <td>604</td>\n",
       "    </tr>\n",
       "  </tbody>\n",
       "</table>\n",
       "</div>"
      ],
      "text/plain": [
       "                      count\n",
       "Leopoldstadt           1332\n",
       "Landstraße             1135\n",
       "Alsergrund              853\n",
       "Rudolfsheim-Fünfhaus    832\n",
       "Margareten              784\n",
       "Neubau                  777\n",
       "Innere Stadt            719\n",
       "Favoriten               673\n",
       "Mariahilf               631\n",
       "Ottakring               604"
      ]
     },
     "execution_count": 18,
     "metadata": {},
     "output_type": "execute_result"
    }
   ],
   "source": [
    "df_nb.sort_values(by=['count'], ascending=False).head(10)"
   ]
  },
  {
   "cell_type": "markdown",
   "metadata": {},
   "source": [
    "This data is coming in a little raw, so some cleaning is in order.\n",
    "\n",
    "Particularly, the 'number_reviews' and 'reviews_per_month' fields look like they need some special processing to remove a large number of NaN values. Rather than discarding these outright, we set the value of 'reviews_per_month' to 0 where there is currently a NaN, because some quick analysis shows that this field is NaN only wherever 'number_of_reviews' is 0 (which makes some intuitive sense).\n",
    "\n",
    "We also drop any entries that are obviously strange, such as listings with a value of 0 for bedrooms, beds, or price, then finally drop any remaining rows that have any NaN values. The resulting dataset contains 5246 entries, a subset of the original 7029."
   ]
  },
  {
   "cell_type": "code",
   "execution_count": 19,
   "metadata": {
    "scrolled": false
   },
   "outputs": [
    {
     "data": {
      "text/plain": [
       "0"
      ]
     },
     "execution_count": 19,
     "metadata": {},
     "output_type": "execute_result"
    }
   ],
   "source": [
    "# the number of entries with 0 'number_of_reviews' which do not a NaN for 'reviews_per_month'\n",
    "len(df[(df.number_of_reviews == 0) & (pd.isnull(df.number_of_reviews) == False)\n",
    "       & (pd.isnull(df.reviews_per_month) == False)].index)"
   ]
  },
  {
   "cell_type": "code",
   "execution_count": 20,
   "metadata": {},
   "outputs": [
    {
     "data": {
      "text/plain": [
       "0"
      ]
     },
     "execution_count": 20,
     "metadata": {},
     "output_type": "execute_result"
    }
   ],
   "source": [
    "# the number of entries with at least 1 'number_of_reviews' which have a NaN for 'reviews_per_month'\n",
    "len(df[(df.number_of_reviews != 0) & (pd.isnull(df.number_of_reviews) == False)\n",
    "       & (pd.isnull(df.reviews_per_month) == True)].index)"
   ]
  },
  {
   "cell_type": "code",
   "execution_count": 21,
   "metadata": {},
   "outputs": [
    {
     "data": {
      "text/plain": [
       "9347"
      ]
     },
     "execution_count": 21,
     "metadata": {},
     "output_type": "execute_result"
    }
   ],
   "source": [
    "# so we need to do some cleaning.\n",
    "\n",
    "# first fixup 'reviews_per_month' where there are no reviews\n",
    "df['reviews_per_month'].fillna(0, inplace=True)\n",
    "\n",
    "# just drop rows with bad/weird values\n",
    "# (we could do more here)\n",
    "df = df[df.bedrooms != 0]\n",
    "df = df[df.beds != 0]\n",
    "#df = df[df.price != 0]      # TÄTÄ EI VOI TEHDÄ VIELÄ TÄSSÄ, sillä ensin on poistettava $-merkit\n",
    "df = df.dropna(axis=0)\n",
    "\n",
    "len(df.index)"
   ]
  },
  {
   "cell_type": "markdown",
   "metadata": {},
   "source": [
    "The last bit of cleaning/filtering we'll do is convert the 'price' column to floating point, and drop all of the entries with more than one bedroom.\n",
    "\n",
    "Approximately 70% of the entries in this file are for one bedroom listings (in large cities, especially San Francisco, this might be the norm), so it's the type of unit for which we have the most samples. By focusing our regression on a single type of unit, our model will be better as there is less to discover about the complex interactions with other features (such as whether the unit is shared, private, or has a private room). To make predictions for larger units, one way to go would be to develop separate models for each of the different sizes (2, 3, 4 bedrooms, etc.), or do some clustering to see if it is better to partition the data in some other way."
   ]
  },
  {
   "cell_type": "code",
   "execution_count": 22,
   "metadata": {},
   "outputs": [
    {
     "data": {
      "text/plain": [
       "6807"
      ]
     },
     "execution_count": 22,
     "metadata": {},
     "output_type": "execute_result"
    }
   ],
   "source": [
    "df = df[df.bedrooms == 1]\n",
    "len(df.index)"
   ]
  },
  {
   "cell_type": "code",
   "execution_count": 23,
   "metadata": {},
   "outputs": [
    {
     "data": {
      "text/plain": [
       "0    $85.00\n",
       "1    $65.00\n",
       "4    $59.00\n",
       "5    $50.00\n",
       "8    $55.00\n",
       "Name: price, dtype: object"
      ]
     },
     "execution_count": 23,
     "metadata": {},
     "output_type": "execute_result"
    }
   ],
   "source": [
    "df.price.head(5)"
   ]
  },
  {
   "cell_type": "code",
   "execution_count": 24,
   "metadata": {},
   "outputs": [
    {
     "data": {
      "text/plain": [
       "1258     9270.0\n",
       "9735     5000.0\n",
       "3275     1900.0\n",
       "8912     1000.0\n",
       "8928     1000.0\n",
       "          ...  \n",
       "6522      440.0\n",
       "8040      390.0\n",
       "11629     319.0\n",
       "8655      300.0\n",
       "1814      300.0\n",
       "Name: price, Length: 80, dtype: float64"
      ]
     },
     "execution_count": 24,
     "metadata": {},
     "output_type": "execute_result"
    }
   ],
   "source": [
    "# remove the $ from the price and convert to float\n",
    "df['price'] = df['price'].replace('[\\$,)]','',  \\\n",
    "        regex=True).replace('[(]','-', regex=True).astype(float)\n",
    "df.price.sort_values(ascending=False).head(80)"
   ]
  },
  {
   "cell_type": "code",
   "execution_count": 25,
   "metadata": {},
   "outputs": [
    {
     "data": {
      "text/plain": [
       "6631      9.0\n",
       "2025      9.0\n",
       "7892      9.0\n",
       "6821     10.0\n",
       "5492     10.0\n",
       "         ... \n",
       "7314     16.0\n",
       "3361     16.0\n",
       "2062     16.0\n",
       "3493     16.0\n",
       "11573    16.0\n",
       "Name: price, Length: 80, dtype: float64"
      ]
     },
     "execution_count": 25,
     "metadata": {},
     "output_type": "execute_result"
    }
   ],
   "source": [
    "df.price.sort_values(ascending=True).head(80)"
   ]
  },
  {
   "cell_type": "markdown",
   "metadata": {},
   "source": [
    "Nyt $-merkit on poistettu hintakentästä ja se on muutettu liukuluvuksi, joten dataframesta voidaan poistaa ne rivit, joista hinta puuttuu. Näitä tosin ei näytä olevan tässä aineistossa. Aineistossa näyttää olevan kolme selväsiti muita kalliimpaa kohdetta, jotka on syytä myös poistaa dataframesta."
   ]
  },
  {
   "cell_type": "code",
   "execution_count": 26,
   "metadata": {},
   "outputs": [
    {
     "data": {
      "text/plain": [
       "6804"
      ]
     },
     "execution_count": 26,
     "metadata": {},
     "output_type": "execute_result"
    }
   ],
   "source": [
    "# Nyt voi tehdä hintaan perustuvat suodatukset\n",
    "df = df[df.price != 0] # turha Wien-aineistossa 19.11.2019\n",
    "df = df[df.price <= 1000]\n",
    "len(df)"
   ]
  },
  {
   "cell_type": "code",
   "execution_count": 27,
   "metadata": {},
   "outputs": [
    {
     "data": {
      "text/html": [
       "<div>\n",
       "<style scoped>\n",
       "    .dataframe tbody tr th:only-of-type {\n",
       "        vertical-align: middle;\n",
       "    }\n",
       "\n",
       "    .dataframe tbody tr th {\n",
       "        vertical-align: top;\n",
       "    }\n",
       "\n",
       "    .dataframe thead th {\n",
       "        text-align: right;\n",
       "    }\n",
       "</style>\n",
       "<table border=\"1\" class=\"dataframe\">\n",
       "  <thead>\n",
       "    <tr style=\"text-align: right;\">\n",
       "      <th></th>\n",
       "      <th>id</th>\n",
       "      <th>neighbourhood_cleansed</th>\n",
       "      <th>room_type</th>\n",
       "      <th>accommodates</th>\n",
       "      <th>bedrooms</th>\n",
       "      <th>beds</th>\n",
       "      <th>price</th>\n",
       "      <th>availability_30</th>\n",
       "      <th>number_of_reviews</th>\n",
       "      <th>review_scores_rating</th>\n",
       "      <th>instant_bookable</th>\n",
       "      <th>cancellation_policy</th>\n",
       "      <th>reviews_per_month</th>\n",
       "    </tr>\n",
       "  </thead>\n",
       "  <tbody>\n",
       "    <tr>\n",
       "      <td>1</td>\n",
       "      <td>38768</td>\n",
       "      <td>Leopoldstadt</td>\n",
       "      <td>Entire home/apt</td>\n",
       "      <td>5</td>\n",
       "      <td>1.0</td>\n",
       "      <td>3.0</td>\n",
       "      <td>65.0</td>\n",
       "      <td>10</td>\n",
       "      <td>303</td>\n",
       "      <td>95.0</td>\n",
       "      <td>f</td>\n",
       "      <td>strict_14_with_grace_period</td>\n",
       "      <td>2.87</td>\n",
       "    </tr>\n",
       "    <tr>\n",
       "      <td>5</td>\n",
       "      <td>70637</td>\n",
       "      <td>Leopoldstadt</td>\n",
       "      <td>Private room</td>\n",
       "      <td>2</td>\n",
       "      <td>1.0</td>\n",
       "      <td>2.0</td>\n",
       "      <td>50.0</td>\n",
       "      <td>5</td>\n",
       "      <td>111</td>\n",
       "      <td>95.0</td>\n",
       "      <td>f</td>\n",
       "      <td>moderate</td>\n",
       "      <td>1.05</td>\n",
       "    </tr>\n",
       "    <tr>\n",
       "      <td>8</td>\n",
       "      <td>78416</td>\n",
       "      <td>Rudolfsheim-Fünfhaus</td>\n",
       "      <td>Entire home/apt</td>\n",
       "      <td>4</td>\n",
       "      <td>1.0</td>\n",
       "      <td>2.0</td>\n",
       "      <td>55.0</td>\n",
       "      <td>12</td>\n",
       "      <td>177</td>\n",
       "      <td>87.0</td>\n",
       "      <td>t</td>\n",
       "      <td>strict_14_with_grace_period</td>\n",
       "      <td>1.68</td>\n",
       "    </tr>\n",
       "    <tr>\n",
       "      <td>9</td>\n",
       "      <td>90247</td>\n",
       "      <td>Neubau</td>\n",
       "      <td>Entire home/apt</td>\n",
       "      <td>4</td>\n",
       "      <td>1.0</td>\n",
       "      <td>2.0</td>\n",
       "      <td>98.0</td>\n",
       "      <td>2</td>\n",
       "      <td>572</td>\n",
       "      <td>97.0</td>\n",
       "      <td>t</td>\n",
       "      <td>moderate</td>\n",
       "      <td>5.47</td>\n",
       "    </tr>\n",
       "    <tr>\n",
       "      <td>10</td>\n",
       "      <td>98210</td>\n",
       "      <td>Margareten</td>\n",
       "      <td>Private room</td>\n",
       "      <td>2</td>\n",
       "      <td>1.0</td>\n",
       "      <td>1.0</td>\n",
       "      <td>32.0</td>\n",
       "      <td>7</td>\n",
       "      <td>69</td>\n",
       "      <td>93.0</td>\n",
       "      <td>t</td>\n",
       "      <td>flexible</td>\n",
       "      <td>0.66</td>\n",
       "    </tr>\n",
       "    <tr>\n",
       "      <td>11</td>\n",
       "      <td>107439</td>\n",
       "      <td>Margareten</td>\n",
       "      <td>Entire home/apt</td>\n",
       "      <td>4</td>\n",
       "      <td>1.0</td>\n",
       "      <td>2.0</td>\n",
       "      <td>50.0</td>\n",
       "      <td>1</td>\n",
       "      <td>123</td>\n",
       "      <td>92.0</td>\n",
       "      <td>t</td>\n",
       "      <td>flexible</td>\n",
       "      <td>1.20</td>\n",
       "    </tr>\n",
       "    <tr>\n",
       "      <td>18</td>\n",
       "      <td>119627</td>\n",
       "      <td>Leopoldstadt</td>\n",
       "      <td>Entire home/apt</td>\n",
       "      <td>5</td>\n",
       "      <td>1.0</td>\n",
       "      <td>3.0</td>\n",
       "      <td>75.0</td>\n",
       "      <td>12</td>\n",
       "      <td>23</td>\n",
       "      <td>85.0</td>\n",
       "      <td>t</td>\n",
       "      <td>moderate</td>\n",
       "      <td>0.23</td>\n",
       "    </tr>\n",
       "    <tr>\n",
       "      <td>19</td>\n",
       "      <td>121026</td>\n",
       "      <td>Leopoldstadt</td>\n",
       "      <td>Entire home/apt</td>\n",
       "      <td>4</td>\n",
       "      <td>1.0</td>\n",
       "      <td>2.0</td>\n",
       "      <td>75.0</td>\n",
       "      <td>0</td>\n",
       "      <td>253</td>\n",
       "      <td>99.0</td>\n",
       "      <td>t</td>\n",
       "      <td>strict_14_with_grace_period</td>\n",
       "      <td>2.46</td>\n",
       "    </tr>\n",
       "    <tr>\n",
       "      <td>20</td>\n",
       "      <td>125683</td>\n",
       "      <td>Leopoldstadt</td>\n",
       "      <td>Entire home/apt</td>\n",
       "      <td>2</td>\n",
       "      <td>1.0</td>\n",
       "      <td>1.0</td>\n",
       "      <td>75.0</td>\n",
       "      <td>15</td>\n",
       "      <td>52</td>\n",
       "      <td>90.0</td>\n",
       "      <td>t</td>\n",
       "      <td>strict_14_with_grace_period</td>\n",
       "      <td>0.66</td>\n",
       "    </tr>\n",
       "    <tr>\n",
       "      <td>24</td>\n",
       "      <td>149759</td>\n",
       "      <td>Leopoldstadt</td>\n",
       "      <td>Entire home/apt</td>\n",
       "      <td>4</td>\n",
       "      <td>1.0</td>\n",
       "      <td>1.0</td>\n",
       "      <td>110.0</td>\n",
       "      <td>1</td>\n",
       "      <td>5</td>\n",
       "      <td>100.0</td>\n",
       "      <td>f</td>\n",
       "      <td>strict_14_with_grace_period</td>\n",
       "      <td>0.06</td>\n",
       "    </tr>\n",
       "    <tr>\n",
       "      <td>27</td>\n",
       "      <td>153988</td>\n",
       "      <td>Alsergrund</td>\n",
       "      <td>Entire home/apt</td>\n",
       "      <td>3</td>\n",
       "      <td>1.0</td>\n",
       "      <td>2.0</td>\n",
       "      <td>49.0</td>\n",
       "      <td>0</td>\n",
       "      <td>123</td>\n",
       "      <td>89.0</td>\n",
       "      <td>t</td>\n",
       "      <td>moderate</td>\n",
       "      <td>1.22</td>\n",
       "    </tr>\n",
       "    <tr>\n",
       "      <td>28</td>\n",
       "      <td>155762</td>\n",
       "      <td>Leopoldstadt</td>\n",
       "      <td>Entire home/apt</td>\n",
       "      <td>2</td>\n",
       "      <td>1.0</td>\n",
       "      <td>1.0</td>\n",
       "      <td>76.0</td>\n",
       "      <td>0</td>\n",
       "      <td>5</td>\n",
       "      <td>93.0</td>\n",
       "      <td>f</td>\n",
       "      <td>moderate</td>\n",
       "      <td>0.07</td>\n",
       "    </tr>\n",
       "    <tr>\n",
       "      <td>33</td>\n",
       "      <td>169852</td>\n",
       "      <td>Margareten</td>\n",
       "      <td>Entire home/apt</td>\n",
       "      <td>5</td>\n",
       "      <td>1.0</td>\n",
       "      <td>2.0</td>\n",
       "      <td>65.0</td>\n",
       "      <td>9</td>\n",
       "      <td>65</td>\n",
       "      <td>94.0</td>\n",
       "      <td>t</td>\n",
       "      <td>strict_14_with_grace_period</td>\n",
       "      <td>0.67</td>\n",
       "    </tr>\n",
       "    <tr>\n",
       "      <td>39</td>\n",
       "      <td>190751</td>\n",
       "      <td>Innere Stadt</td>\n",
       "      <td>Entire home/apt</td>\n",
       "      <td>4</td>\n",
       "      <td>1.0</td>\n",
       "      <td>1.0</td>\n",
       "      <td>120.0</td>\n",
       "      <td>12</td>\n",
       "      <td>92</td>\n",
       "      <td>97.0</td>\n",
       "      <td>t</td>\n",
       "      <td>strict_14_with_grace_period</td>\n",
       "      <td>0.93</td>\n",
       "    </tr>\n",
       "    <tr>\n",
       "      <td>53</td>\n",
       "      <td>200069</td>\n",
       "      <td>Mariahilf</td>\n",
       "      <td>Entire home/apt</td>\n",
       "      <td>4</td>\n",
       "      <td>1.0</td>\n",
       "      <td>2.0</td>\n",
       "      <td>79.0</td>\n",
       "      <td>0</td>\n",
       "      <td>6</td>\n",
       "      <td>100.0</td>\n",
       "      <td>f</td>\n",
       "      <td>flexible</td>\n",
       "      <td>0.06</td>\n",
       "    </tr>\n",
       "    <tr>\n",
       "      <td>54</td>\n",
       "      <td>203691</td>\n",
       "      <td>Margareten</td>\n",
       "      <td>Private room</td>\n",
       "      <td>2</td>\n",
       "      <td>1.0</td>\n",
       "      <td>2.0</td>\n",
       "      <td>39.0</td>\n",
       "      <td>9</td>\n",
       "      <td>23</td>\n",
       "      <td>88.0</td>\n",
       "      <td>f</td>\n",
       "      <td>flexible</td>\n",
       "      <td>0.23</td>\n",
       "    </tr>\n",
       "    <tr>\n",
       "      <td>55</td>\n",
       "      <td>203707</td>\n",
       "      <td>Margareten</td>\n",
       "      <td>Entire home/apt</td>\n",
       "      <td>4</td>\n",
       "      <td>1.0</td>\n",
       "      <td>2.0</td>\n",
       "      <td>37.0</td>\n",
       "      <td>6</td>\n",
       "      <td>93</td>\n",
       "      <td>91.0</td>\n",
       "      <td>t</td>\n",
       "      <td>flexible</td>\n",
       "      <td>0.93</td>\n",
       "    </tr>\n",
       "    <tr>\n",
       "      <td>59</td>\n",
       "      <td>212649</td>\n",
       "      <td>Leopoldstadt</td>\n",
       "      <td>Private room</td>\n",
       "      <td>2</td>\n",
       "      <td>1.0</td>\n",
       "      <td>2.0</td>\n",
       "      <td>50.0</td>\n",
       "      <td>3</td>\n",
       "      <td>21</td>\n",
       "      <td>97.0</td>\n",
       "      <td>f</td>\n",
       "      <td>moderate</td>\n",
       "      <td>0.23</td>\n",
       "    </tr>\n",
       "    <tr>\n",
       "      <td>60</td>\n",
       "      <td>213095</td>\n",
       "      <td>Rudolfsheim-Fünfhaus</td>\n",
       "      <td>Entire home/apt</td>\n",
       "      <td>3</td>\n",
       "      <td>1.0</td>\n",
       "      <td>2.0</td>\n",
       "      <td>100.0</td>\n",
       "      <td>22</td>\n",
       "      <td>25</td>\n",
       "      <td>96.0</td>\n",
       "      <td>f</td>\n",
       "      <td>moderate</td>\n",
       "      <td>1.09</td>\n",
       "    </tr>\n",
       "    <tr>\n",
       "      <td>63</td>\n",
       "      <td>216214</td>\n",
       "      <td>Margareten</td>\n",
       "      <td>Private room</td>\n",
       "      <td>2</td>\n",
       "      <td>1.0</td>\n",
       "      <td>1.0</td>\n",
       "      <td>24.0</td>\n",
       "      <td>13</td>\n",
       "      <td>21</td>\n",
       "      <td>88.0</td>\n",
       "      <td>t</td>\n",
       "      <td>flexible</td>\n",
       "      <td>0.21</td>\n",
       "    </tr>\n",
       "  </tbody>\n",
       "</table>\n",
       "</div>"
      ],
      "text/plain": [
       "        id neighbourhood_cleansed        room_type  accommodates  bedrooms  \\\n",
       "1    38768           Leopoldstadt  Entire home/apt             5       1.0   \n",
       "5    70637           Leopoldstadt     Private room             2       1.0   \n",
       "8    78416   Rudolfsheim-Fünfhaus  Entire home/apt             4       1.0   \n",
       "9    90247                 Neubau  Entire home/apt             4       1.0   \n",
       "10   98210             Margareten     Private room             2       1.0   \n",
       "11  107439             Margareten  Entire home/apt             4       1.0   \n",
       "18  119627           Leopoldstadt  Entire home/apt             5       1.0   \n",
       "19  121026           Leopoldstadt  Entire home/apt             4       1.0   \n",
       "20  125683           Leopoldstadt  Entire home/apt             2       1.0   \n",
       "24  149759           Leopoldstadt  Entire home/apt             4       1.0   \n",
       "27  153988             Alsergrund  Entire home/apt             3       1.0   \n",
       "28  155762           Leopoldstadt  Entire home/apt             2       1.0   \n",
       "33  169852             Margareten  Entire home/apt             5       1.0   \n",
       "39  190751           Innere Stadt  Entire home/apt             4       1.0   \n",
       "53  200069              Mariahilf  Entire home/apt             4       1.0   \n",
       "54  203691             Margareten     Private room             2       1.0   \n",
       "55  203707             Margareten  Entire home/apt             4       1.0   \n",
       "59  212649           Leopoldstadt     Private room             2       1.0   \n",
       "60  213095   Rudolfsheim-Fünfhaus  Entire home/apt             3       1.0   \n",
       "63  216214             Margareten     Private room             2       1.0   \n",
       "\n",
       "    beds  price  availability_30  number_of_reviews  review_scores_rating  \\\n",
       "1    3.0   65.0               10                303                  95.0   \n",
       "5    2.0   50.0                5                111                  95.0   \n",
       "8    2.0   55.0               12                177                  87.0   \n",
       "9    2.0   98.0                2                572                  97.0   \n",
       "10   1.0   32.0                7                 69                  93.0   \n",
       "11   2.0   50.0                1                123                  92.0   \n",
       "18   3.0   75.0               12                 23                  85.0   \n",
       "19   2.0   75.0                0                253                  99.0   \n",
       "20   1.0   75.0               15                 52                  90.0   \n",
       "24   1.0  110.0                1                  5                 100.0   \n",
       "27   2.0   49.0                0                123                  89.0   \n",
       "28   1.0   76.0                0                  5                  93.0   \n",
       "33   2.0   65.0                9                 65                  94.0   \n",
       "39   1.0  120.0               12                 92                  97.0   \n",
       "53   2.0   79.0                0                  6                 100.0   \n",
       "54   2.0   39.0                9                 23                  88.0   \n",
       "55   2.0   37.0                6                 93                  91.0   \n",
       "59   2.0   50.0                3                 21                  97.0   \n",
       "60   2.0  100.0               22                 25                  96.0   \n",
       "63   1.0   24.0               13                 21                  88.0   \n",
       "\n",
       "   instant_bookable          cancellation_policy  reviews_per_month  \n",
       "1                 f  strict_14_with_grace_period               2.87  \n",
       "5                 f                     moderate               1.05  \n",
       "8                 t  strict_14_with_grace_period               1.68  \n",
       "9                 t                     moderate               5.47  \n",
       "10                t                     flexible               0.66  \n",
       "11                t                     flexible               1.20  \n",
       "18                t                     moderate               0.23  \n",
       "19                t  strict_14_with_grace_period               2.46  \n",
       "20                t  strict_14_with_grace_period               0.66  \n",
       "24                f  strict_14_with_grace_period               0.06  \n",
       "27                t                     moderate               1.22  \n",
       "28                f                     moderate               0.07  \n",
       "33                t  strict_14_with_grace_period               0.67  \n",
       "39                t  strict_14_with_grace_period               0.93  \n",
       "53                f                     flexible               0.06  \n",
       "54                f                     flexible               0.23  \n",
       "55                t                     flexible               0.93  \n",
       "59                f                     moderate               0.23  \n",
       "60                f                     moderate               1.09  \n",
       "63                t                     flexible               0.21  "
      ]
     },
     "execution_count": 27,
     "metadata": {},
     "output_type": "execute_result"
    }
   ],
   "source": [
    "# Some kind of a boxplot \n",
    "df.price.value_counts()\n",
    "top_neighbourhoods = df_nb.sort_values(by=['count'], ascending=False).head(10).index\n",
    "df_short = df[df.neighbourhood_cleansed.isin(top_neighbourhoods)]\n",
    "df_short.head(20)"
   ]
  },
  {
   "cell_type": "markdown",
   "metadata": {},
   "source": [
    "Additional cleaning seems to be in order -- at least in order to create an insightful boxplot "
   ]
  },
  {
   "cell_type": "code",
   "execution_count": 28,
   "metadata": {},
   "outputs": [
    {
     "data": {
      "image/png": "[encoded data removed]",
      "text/plain": [
       "<Figure size 1440x360 with 1 Axes>"
      ]
     },
     "metadata": {
      "needs_background": "light"
     },
     "output_type": "display_data"
    }
   ],
   "source": [
    "import seaborn as sns\n",
    "ax = sns.boxplot(x='neighbourhood_cleansed', y='price', data=df_short)"
   ]
  },
  {
   "cell_type": "markdown",
   "metadata": {},
   "source": [
    "We have a few columns that contain categorical variables. These are handled in slightly different ways depending on their possible values.\n",
    "The 'neighborhood_cleansed' field, in its raw form, is a string representing the name of the neighborhood. The regressors in scikit-learn will only accept numeric fields. For this type of variable we can use the get_dummies routine in Pandas to convert these to 'dummy' variables. This process is also known as \"one hot\" encoding, meaning we add a column for every possible value of the field. Each listing (row) contains a '1' in for its own neighborhood, else the column contains a '0' for that neighborhood.\n",
    "\n",
    "We handle this in a similar way for the 'room_type' and 'cancellation_policy' fields.\n",
    "\n",
    "For the instant_bookable field, we can represent it with a single column since it's a boolean value (it represents whether or not the unit can be booked instantly online without confirmation from the owner)."
   ]
  },
  {
   "cell_type": "code",
   "execution_count": 29,
   "metadata": {},
   "outputs": [
    {
     "data": {
      "text/html": [
       "<div>\n",
       "<style scoped>\n",
       "    .dataframe tbody tr th:only-of-type {\n",
       "        vertical-align: middle;\n",
       "    }\n",
       "\n",
       "    .dataframe tbody tr th {\n",
       "        vertical-align: top;\n",
       "    }\n",
       "\n",
       "    .dataframe thead th {\n",
       "        text-align: right;\n",
       "    }\n",
       "</style>\n",
       "<table border=\"1\" class=\"dataframe\">\n",
       "  <thead>\n",
       "    <tr style=\"text-align: right;\">\n",
       "      <th></th>\n",
       "      <th>id</th>\n",
       "      <th>accommodates</th>\n",
       "      <th>bedrooms</th>\n",
       "      <th>beds</th>\n",
       "      <th>price</th>\n",
       "      <th>availability_30</th>\n",
       "      <th>number_of_reviews</th>\n",
       "      <th>review_scores_rating</th>\n",
       "      <th>reviews_per_month</th>\n",
       "      <th>Alsergrund</th>\n",
       "      <th>...</th>\n",
       "      <th>Hotel room</th>\n",
       "      <th>Private room</th>\n",
       "      <th>Shared room</th>\n",
       "      <th>flexible</th>\n",
       "      <th>moderate</th>\n",
       "      <th>strict</th>\n",
       "      <th>strict_14_with_grace_period</th>\n",
       "      <th>super_strict_30</th>\n",
       "      <th>super_strict_60</th>\n",
       "      <th>instant_t</th>\n",
       "    </tr>\n",
       "  </thead>\n",
       "  <tbody>\n",
       "    <tr>\n",
       "      <td>0</td>\n",
       "      <td>15883</td>\n",
       "      <td>3</td>\n",
       "      <td>1.0</td>\n",
       "      <td>1.0</td>\n",
       "      <td>85.0</td>\n",
       "      <td>21</td>\n",
       "      <td>10</td>\n",
       "      <td>96.0</td>\n",
       "      <td>0.18</td>\n",
       "      <td>0</td>\n",
       "      <td>...</td>\n",
       "      <td>1</td>\n",
       "      <td>0</td>\n",
       "      <td>0</td>\n",
       "      <td>0</td>\n",
       "      <td>1</td>\n",
       "      <td>0</td>\n",
       "      <td>0</td>\n",
       "      <td>0</td>\n",
       "      <td>0</td>\n",
       "      <td>1</td>\n",
       "    </tr>\n",
       "    <tr>\n",
       "      <td>1</td>\n",
       "      <td>38768</td>\n",
       "      <td>5</td>\n",
       "      <td>1.0</td>\n",
       "      <td>3.0</td>\n",
       "      <td>65.0</td>\n",
       "      <td>10</td>\n",
       "      <td>303</td>\n",
       "      <td>95.0</td>\n",
       "      <td>2.87</td>\n",
       "      <td>0</td>\n",
       "      <td>...</td>\n",
       "      <td>0</td>\n",
       "      <td>0</td>\n",
       "      <td>0</td>\n",
       "      <td>0</td>\n",
       "      <td>0</td>\n",
       "      <td>0</td>\n",
       "      <td>1</td>\n",
       "      <td>0</td>\n",
       "      <td>0</td>\n",
       "      <td>0</td>\n",
       "    </tr>\n",
       "    <tr>\n",
       "      <td>4</td>\n",
       "      <td>70568</td>\n",
       "      <td>2</td>\n",
       "      <td>1.0</td>\n",
       "      <td>1.0</td>\n",
       "      <td>59.0</td>\n",
       "      <td>30</td>\n",
       "      <td>10</td>\n",
       "      <td>94.0</td>\n",
       "      <td>0.10</td>\n",
       "      <td>0</td>\n",
       "      <td>...</td>\n",
       "      <td>0</td>\n",
       "      <td>0</td>\n",
       "      <td>0</td>\n",
       "      <td>0</td>\n",
       "      <td>0</td>\n",
       "      <td>0</td>\n",
       "      <td>1</td>\n",
       "      <td>0</td>\n",
       "      <td>0</td>\n",
       "      <td>0</td>\n",
       "    </tr>\n",
       "    <tr>\n",
       "      <td>5</td>\n",
       "      <td>70637</td>\n",
       "      <td>2</td>\n",
       "      <td>1.0</td>\n",
       "      <td>2.0</td>\n",
       "      <td>50.0</td>\n",
       "      <td>5</td>\n",
       "      <td>111</td>\n",
       "      <td>95.0</td>\n",
       "      <td>1.05</td>\n",
       "      <td>0</td>\n",
       "      <td>...</td>\n",
       "      <td>0</td>\n",
       "      <td>1</td>\n",
       "      <td>0</td>\n",
       "      <td>0</td>\n",
       "      <td>1</td>\n",
       "      <td>0</td>\n",
       "      <td>0</td>\n",
       "      <td>0</td>\n",
       "      <td>0</td>\n",
       "      <td>0</td>\n",
       "    </tr>\n",
       "    <tr>\n",
       "      <td>8</td>\n",
       "      <td>78416</td>\n",
       "      <td>4</td>\n",
       "      <td>1.0</td>\n",
       "      <td>2.0</td>\n",
       "      <td>55.0</td>\n",
       "      <td>12</td>\n",
       "      <td>177</td>\n",
       "      <td>87.0</td>\n",
       "      <td>1.68</td>\n",
       "      <td>0</td>\n",
       "      <td>...</td>\n",
       "      <td>0</td>\n",
       "      <td>0</td>\n",
       "      <td>0</td>\n",
       "      <td>0</td>\n",
       "      <td>0</td>\n",
       "      <td>0</td>\n",
       "      <td>1</td>\n",
       "      <td>0</td>\n",
       "      <td>0</td>\n",
       "      <td>1</td>\n",
       "    </tr>\n",
       "  </tbody>\n",
       "</table>\n",
       "<p>5 rows × 43 columns</p>\n",
       "</div>"
      ],
      "text/plain": [
       "      id  accommodates  bedrooms  beds  price  availability_30  \\\n",
       "0  15883             3       1.0   1.0   85.0               21   \n",
       "1  38768             5       1.0   3.0   65.0               10   \n",
       "4  70568             2       1.0   1.0   59.0               30   \n",
       "5  70637             2       1.0   2.0   50.0                5   \n",
       "8  78416             4       1.0   2.0   55.0               12   \n",
       "\n",
       "   number_of_reviews  review_scores_rating  reviews_per_month  Alsergrund  \\\n",
       "0                 10                  96.0               0.18           0   \n",
       "1                303                  95.0               2.87           0   \n",
       "4                 10                  94.0               0.10           0   \n",
       "5                111                  95.0               1.05           0   \n",
       "8                177                  87.0               1.68           0   \n",
       "\n",
       "   ...  Hotel room  Private room  Shared room  flexible  moderate  strict  \\\n",
       "0  ...           1             0            0         0         1       0   \n",
       "1  ...           0             0            0         0         0       0   \n",
       "4  ...           0             0            0         0         0       0   \n",
       "5  ...           0             1            0         0         1       0   \n",
       "8  ...           0             0            0         0         0       0   \n",
       "\n",
       "   strict_14_with_grace_period  super_strict_30  super_strict_60  instant_t  \n",
       "0                            0                0                0          1  \n",
       "1                            1                0                0          0  \n",
       "4                            1                0                0          0  \n",
       "5                            0                0                0          0  \n",
       "8                            1                0                0          1  \n",
       "\n",
       "[5 rows x 43 columns]"
      ]
     },
     "execution_count": 29,
     "metadata": {},
     "output_type": "execute_result"
    }
   ],
   "source": [
    "# get feature encoding for categorical variables\n",
    "n_dummies = pd.get_dummies(df.neighbourhood_cleansed)\n",
    "rt_dummies = pd.get_dummies(df.room_type)\n",
    "xcl_dummies = pd.get_dummies(df.cancellation_policy)\n",
    "\n",
    "# convert boolean column to a single boolean value indicating whether this listing has instant booking available\n",
    "ib_dummies = pd.get_dummies(df.instant_bookable, prefix=\"instant\")\n",
    "ib_dummies = ib_dummies.drop('instant_f', axis=1)\n",
    "\n",
    "# replace the old columns with our new one-hot encoded ones\n",
    "alldata = pd.concat((df.drop(['neighbourhood_cleansed', \\\n",
    "    'room_type', 'cancellation_policy', 'instant_bookable'], axis=1), \\\n",
    "    n_dummies.astype(int), rt_dummies.astype(int), \\\n",
    "    xcl_dummies.astype(int), ib_dummies.astype(int)), \\\n",
    "    axis=1)\n",
    "allcols = alldata.columns\n",
    "alldata.head(5)"
   ]
  },
  {
   "cell_type": "markdown",
   "metadata": {},
   "source": [
    "Using the ```scatter_matrix``` function in Pandas next, we can quickly show a matrix of each feature as a function of another, checking for any collinearity among the features. The cells along the diagonal of this matrix contain a histogram, with the values shown along the X axis. Collinearity in this case is less likely because we've picked a small set of features that are not obviously related to each other, but it's a good thing to check anyway to see if we have anything that will throw things off."
   ]
  },
  {
   "cell_type": "code",
   "execution_count": 30,
   "metadata": {},
   "outputs": [
    {
     "data": {
      "image/png": "[encoded data removed]",
      "text/plain": [
       "<Figure size 864x864 with 49 Axes>"
      ]
     },
     "metadata": {
      "needs_background": "light"
     },
     "output_type": "display_data"
    }
   ],
   "source": [
    "scattercols = ['price','accommodates', 'number_of_reviews', 'reviews_per_month', 'beds', 'availability_30', 'review_scores_rating']\n",
    "axs = pd.plotting.scatter_matrix(alldata[scattercols],\n",
    "                        figsize=(12, 12), c='red')"
   ]
  },
  {
   "cell_type": "markdown",
   "metadata": {},
   "source": [
    "Looking at the output of ```scatter_matrix```, no features show any obvious problems. \n",
    "The most closely related features appear to be 'beds' and 'accommodates'.\n",
    "It's true that the more beds a unit has, the more it accommodates for sleeping,\n",
    "but even these are only loosely related and the result is far from a straight line.\n",
    "Presumably this is because of different bed sizes, sleeping arrangements, and\n",
    "layout of the rental unit."
   ]
  },
  {
   "cell_type": "markdown",
   "metadata": {},
   "source": [
    "### Making Predictions with Scikit-Learn and Spark\n",
    "\n",
    "One of the great things about scikit-learn is that we can easily try a bunch of different linear models on the same data. This will give us some clues as to where we can start tuning. We will start with six of them: vanilla linear regression, ridge and lasso regressions, ElasticNet, bayesian ridge, and a lesser used one called Orthogonal Matching Pursuit.\n",
    "\n",
    "To evaluate which model(s) are doing better, we will need some way to score the results. In this example I've chosen median absolute error, mainly because it makes sense at a glance (it easily translates to a dollar amount relative to price) and is less sensitive to outliers than other metrics like mean squared error.\n",
    "\n",
    "Speaking of which, it is fairly likely that we have some outliers in the data since we haven't done any filtering or clustering for them, so this is a good way to get a quick and dirty measure of performance before we move to fine-tuning (and of course, we could do more with outliers in the data preparation step)."
   ]
  },
  {
   "cell_type": "markdown",
   "metadata": {},
   "source": [
    "Kenttä 'id' pitää poistaa tarkastelusta, sillä se aiheuttaa laskentatarkkuusongelman lineaarimallissa Ridge."
   ]
  },
  {
   "cell_type": "code",
   "execution_count": 31,
   "metadata": {},
   "outputs": [
    {
     "name": "stdout",
     "output_type": "stream",
     "text": [
      "got error 14.55\n",
      "got error 14.56\n",
      "got error 14.05\n",
      "got error 15.81\n",
      "got error 14.38\n",
      "got error 13.85\n"
     ]
    },
    {
     "data": {
      "text/plain": [
       "Text(0, 0.5, 'Median Absolute Error')"
      ]
     },
     "execution_count": 31,
     "metadata": {},
     "output_type": "execute_result"
    },
    {
     "data": {
      "image/png": "[encoded data removed]",
      "text/plain": [
       "<Figure size 504x360 with 1 Axes>"
      ]
     },
     "metadata": {
      "needs_background": "light"
     },
     "output_type": "display_data"
    }
   ],
   "source": [
    "rs = 1\n",
    "ests = [ linear_model.LinearRegression(), linear_model.Ridge(),\n",
    "        linear_model.Lasso(), linear_model.ElasticNet(),\n",
    "        linear_model.BayesianRidge(), linear_model.OrthogonalMatchingPursuit() ]\n",
    "ests_labels = np.array(['Linear', 'Ridge', 'Lasso', 'ElasticNet', 'BayesRidge', 'OMP'])\n",
    "errvals = np.array([])\n",
    "\n",
    "X_train, X_test, y_train, y_test = train_test_split(alldata.drop(['price', 'id'], axis=1),\n",
    "                                                    alldata.price, test_size=0.2, random_state=20)\n",
    "\n",
    "for e in ests:\n",
    "    e.fit(X_train, y_train)\n",
    "    this_err = metrics.median_absolute_error(y_test, e.predict(X_test))\n",
    "    print(\"got error %0.2f\" % this_err)\n",
    "    errvals = np.append(errvals, this_err)\n",
    "\n",
    "pos = np.arange(errvals.shape[0])\n",
    "srt = np.argsort(errvals)\n",
    "plt.figure(figsize=(7,5))\n",
    "plt.bar(pos, errvals[srt], align='center')\n",
    "plt.xticks(pos, ests_labels[srt])\n",
    "plt.xlabel('Estimator')\n",
    "plt.ylabel('Median Absolute Error')"
   ]
  },
  {
   "cell_type": "markdown",
   "metadata": {},
   "source": [
    "Looking at the error from each of these six estimators, they appear to be roughly the same with most of the estimators being able to predict the price with a median error around 30-35 dollars, with BayesRidge coming out on top by a small margin. Having the results be this close isn't surprising, because we haven't done any tuning. The results give us a good general idea of where we stand with the individual estimators.\n",
    "\n",
    "Next we'll try an ensemble method to see if we can get better results. The upside is that we will likely get a better score, and the downside is that the ensemble methods have a bewildering variety of hyperparameters that must be tuned, each of which can affect our model and requires some experimentation to get right. The common way to approach this is to use an exhaustive \"grid search\" which simply tries all the supplied parameter combinations and uses cross-validation folding to find the best one. Scikit-learn provides the very handy GridSearchCV function for this purpose.\n",
    "\n",
    "The tradeoff of using GridSearchCV is that the exhaustive search and cross-validation can take a lot of CPU and time. This is where we can use Spark to distribute the search to more machines and cores, enabling us to test more combinations faster.\n",
    "\n",
    "For our first attempt, we'll limit the number of parameters just so we can get the results back quickly and see if we're doing better than any of the individual methods above."
   ]
  },
  {
   "cell_type": "code",
   "execution_count": 32,
   "metadata": {},
   "outputs": [
    {
     "name": "stdout",
     "output_type": "stream",
     "text": [
      "The scikit-learn version is 0.21.3.\n"
     ]
    },
    {
     "data": {
      "text/plain": [
       "['accuracy',\n",
       " 'adjusted_mutual_info_score',\n",
       " 'adjusted_rand_score',\n",
       " 'average_precision',\n",
       " 'balanced_accuracy',\n",
       " 'brier_score_loss',\n",
       " 'completeness_score',\n",
       " 'explained_variance',\n",
       " 'f1',\n",
       " 'f1_macro',\n",
       " 'f1_micro',\n",
       " 'f1_samples',\n",
       " 'f1_weighted',\n",
       " 'fowlkes_mallows_score',\n",
       " 'homogeneity_score',\n",
       " 'jaccard',\n",
       " 'jaccard_macro',\n",
       " 'jaccard_micro',\n",
       " 'jaccard_samples',\n",
       " 'jaccard_weighted',\n",
       " 'max_error',\n",
       " 'mutual_info_score',\n",
       " 'neg_log_loss',\n",
       " 'neg_mean_absolute_error',\n",
       " 'neg_mean_squared_error',\n",
       " 'neg_mean_squared_log_error',\n",
       " 'neg_median_absolute_error',\n",
       " 'normalized_mutual_info_score',\n",
       " 'precision',\n",
       " 'precision_macro',\n",
       " 'precision_micro',\n",
       " 'precision_samples',\n",
       " 'precision_weighted',\n",
       " 'r2',\n",
       " 'recall',\n",
       " 'recall_macro',\n",
       " 'recall_micro',\n",
       " 'recall_samples',\n",
       " 'recall_weighted',\n",
       " 'roc_auc',\n",
       " 'v_measure_score']"
      ]
     },
     "execution_count": 32,
     "metadata": {},
     "output_type": "execute_result"
    }
   ],
   "source": [
    "import sklearn\n",
    "print('The scikit-learn version is {}.'.format(sklearn.__version__))\n",
    "\n",
    "sorted(sklearn.metrics.SCORERS.keys())"
   ]
  },
  {
   "cell_type": "code",
   "execution_count": 33,
   "metadata": {},
   "outputs": [
    {
     "data": {
      "text/plain": [
       "GradientBoostingRegressor(alpha=0.9, criterion='friedman_mse', init=None,\n",
       "                          learning_rate=0.01, loss='lad', max_depth=4,\n",
       "                          max_features=None, max_leaf_nodes=None,\n",
       "                          min_impurity_decrease=0.0, min_impurity_split=None,\n",
       "                          min_samples_leaf=1, min_samples_split=2,\n",
       "                          min_weight_fraction_leaf=0.0, n_estimators=500,\n",
       "                          n_iter_no_change=None, presort='auto',\n",
       "                          random_state=None, subsample=1.0, tol=0.0001,\n",
       "                          validation_fraction=0.1, verbose=0, warm_start=False)"
      ]
     },
     "execution_count": 33,
     "metadata": {},
     "output_type": "execute_result"
    }
   ],
   "source": [
    "n_est = 500\n",
    "\n",
    "tuned_parameters = {\n",
    "    \"n_estimators\": [ n_est ],\n",
    "    \"max_depth\" : [ 4 ],\n",
    "    \"learning_rate\": [ 0.01 ],\n",
    "    \"min_samples_split\" : [ 2 ],\n",
    "    \"loss\" : [ 'ls', 'lad' ]\n",
    "}\n",
    "\n",
    "gbr = ensemble.GradientBoostingRegressor()\n",
    "clf = GridSearchCV(gbr, cv=3, param_grid=tuned_parameters,\n",
    "        scoring='neg_median_absolute_error')\n",
    "preds = clf.fit(X_train, y_train)\n",
    "best = clf.best_estimator_\n",
    "best"
   ]
  },
  {
   "cell_type": "code",
   "execution_count": 34,
   "metadata": {},
   "outputs": [
    {
     "data": {
      "text/plain": [
       "10.158245266881435"
      ]
     },
     "execution_count": 34,
     "metadata": {},
     "output_type": "execute_result"
    }
   ],
   "source": [
    "abs(clf.best_score_)"
   ]
  },
  {
   "cell_type": "markdown",
   "metadata": {},
   "source": [
    "The result of this attempt is a median error of $23.64.\n",
    "\n",
    "Already, it looks like we're doing better with GradientBoostingRegressor than we were with any of the prior attempts. Without doing any tuning, the median error is around 20% less than the best error of the previous group (with BayesRidge()).\n",
    "\n",
    "Let's get a quick measure of how the error is affected by each round of boosting, so we can see if throwing more iterations at the problem is going to help."
   ]
  },
  {
   "cell_type": "code",
   "execution_count": 35,
   "metadata": {},
   "outputs": [
    {
     "data": {
      "text/plain": [
       "Text(0, 0.5, 'Least Absolute Deviation')"
      ]
     },
     "execution_count": 35,
     "metadata": {},
     "output_type": "execute_result"
    },
    {
     "data": {
      "image/png": "[encoded data removed]",
      "text/plain": [
       "<Figure size 864x432 with 1 Axes>"
      ]
     },
     "metadata": {
      "needs_background": "light"
     },
     "output_type": "display_data"
    }
   ],
   "source": [
    "# plot error for each round of boosting\n",
    "test_score = np.zeros(n_est, dtype=np.float64)\n",
    "\n",
    "train_score = best.train_score_\n",
    "for i, y_pred in enumerate(best.staged_predict(X_test)):\n",
    "    test_score[i] = best.loss_(y_test, y_pred)\n",
    "\n",
    "plt.figure(figsize=(12, 6))\n",
    "plt.subplot(1, 2, 1)\n",
    "plt.plot(np.arange(n_est), train_score, 'darkblue', label='Training Set Error')\n",
    "plt.plot(np.arange(n_est), test_score, 'red', label='Test Set Error')\n",
    "plt.legend(loc='upper right')\n",
    "plt.xlabel('Boosting Iterations')\n",
    "plt.ylabel('Least Absolute Deviation')"
   ]
  },
  {
   "cell_type": "markdown",
   "metadata": {},
   "source": [
    "It looks like the curve is flattening near the right side of the plot (after around 200-250 iterations), but is still benefitting from more iterations, so we could increase the iterations to 500 without much thought.\n",
    "\n",
    "Now we can do some tuning with GridSearchCV and explore more of the hyperparameter combinations. However, this requires some serious CPU and a complete run of all of the combinations can easily take hours to finish, even on a small number of rows.\n",
    "\n",
    "By simply replacing the following lines in our file, we can use the new spark-sklearn integration package running on the [MapR 5.1 platform with Spark as a YARN client](http://maprdocs.mapr.com/51/index.html#Spark/SparkonYARN.html) to distribute the iterations across the machines in a cluster. This allows us to test more hyperparameter combinations, ultimately reducing error, and we can do it all in less time.\n",
    "\n",
    "```\n",
    "from pyspark import SparkContext, SparkConf\n",
    "from spark_sklearn import GridSearchCV\n",
    "\n",
    "conf = SparkConf()\n",
    "sc = SparkContext(conf=conf)\n",
    "clf = GridSearchCV(sc, gbr, cv=3, param_grid=tuned_parameters, scoring='median_absolute_error')\n",
    "```\n",
    "\n",
    "You can then run the script in this notebook with the following command, setting --num-executors and --executor-cores to suit your Spark environment:\n",
    "\n",
    "```\n",
    "time MASTER=yarn-client /opt/mapr/spark/spark-1.5.2/bin/spark-submit --num-executors=2 --executor-cores=8 python_scikit_airbnb.py\n",
    "```\n",
    "\n",
    "It's worth pausing here to note that the architecture of this approach is different than that used by MLlib in Spark. Using spark-sklearn, we're simply distributing the cross-validation run of each model (with a specific combination of hyperparameters) across each Spark executor. Spark MLlib, on the other hand, will distribute the internals of the actual learning algorithms across the cluster.\n",
    "The main advantage of spark-sklearn is that it enables leveraging the very rich set of machine learning algorithms in scikit-learn. These algorithms do not run natively on a cluster (although they can be parallelized on a single machine) and by adding Spark, we can unlock a lot more horsepower than could ordinarily be used.\n",
    "\n",
    "**Using this approach we can get the error down even further, to $21.43**, with a substantial reduction in time."
   ]
  },
  {
   "cell_type": "markdown",
   "metadata": {},
   "source": [
    "Finally let's look at the feature importances to see which features were most influential in predicting the listing price. This will show us a relative scoring of how important each feature is relative to the feature with the most importance."
   ]
  },
  {
   "cell_type": "code",
   "execution_count": 36,
   "metadata": {},
   "outputs": [
    {
     "data": {
      "text/plain": [
       "Text(0.5, 1.0, 'Variable Importance')"
      ]
     },
     "execution_count": 36,
     "metadata": {},
     "output_type": "execute_result"
    },
    {
     "data": {
      "image/png": "[encoded data removed]",
      "text/plain": [
       "<Figure size 576x2160 with 1 Axes>"
      ]
     },
     "metadata": {
      "needs_background": "light"
     },
     "output_type": "display_data"
    }
   ],
   "source": [
    "feature_importance = clf.best_estimator_.feature_importances_\n",
    "# make importances relative to max importance\n",
    "feature_importance = 100.0 * (feature_importance / feature_importance.max())\n",
    "sorted_idx = np.argsort(feature_importance)\n",
    "pos = np.arange(sorted_idx.shape[0]) + .5\n",
    "pvals = feature_importance[sorted_idx]\n",
    "pcols = X_train.columns[sorted_idx]\n",
    "plt.figure(figsize=(8,30))\n",
    "plt.barh(pos, pvals, align='center')\n",
    "plt.yticks(pos, pcols)\n",
    "plt.xlabel('Relative Importance')\n",
    "plt.title('Variable Importance')"
   ]
  },
  {
   "cell_type": "markdown",
   "metadata": {},
   "source": [
    "Clearly some of the variables have more influence than others, and the results here are somewhat intuitive. The most influential feature is the 'Entire home/apt' attribute; this indicates whether or not the unit is shared with other people, and has the most effect in setting the price. We would probably expect this feature to be high on the list, and it might be even higher o Reviews are important, as is the short-term availability of the unit, and the Ocean View and Excelsior neighborhood features also scored high."
   ]
  },
  {
   "cell_type": "markdown",
   "metadata": {
    "collapsed": true
   },
   "source": [
    "### Conclusions\n",
    "\n",
    "In this example we looked at how to predict the price using multiple factors, then scale-out our cross validation and hyperparameter search across a MapR cluster using Spark. We learned the following key points:\n",
    "\n",
    "* In this case, the ensemble method we tried (GradientBoostingRegressor) had better results than any individual estimator.\n",
    "\n",
    "* With GridSearchCV, we tested more hyperparameter combinations that ultimately led us to a better result.\n",
    "\n",
    "* Using [spark-sklearn](https://github.com/databricks/spark-sklearn) is a straightforward way to throw more CPU at any machine learning problem you might have.  We used the package to reduce the time spent searching and reduce the error for our estimator.\n",
    "\n",
    "There are many ways in which our first-pass analysis could be improved.  For example, we might start including more of the data from Inside Airbnb.  We could do sentiment analysis on the text of the reviews, bringing this in as an additional feature.\n",
    "\n",
    "A quick way to try the example code here on your own is with the [MapR Sandbox](https://www.mapr.com/products/mapr-sandbox-hadoop/tutorials/spark-tutorial), which comes pre-installed with MapR-FS and Spark.\n",
    "\n",
    "In the next post in the series we'll look at how to to apply the same technique to building a classifier.\n"
   ]
  },
  {
   "cell_type": "code",
   "execution_count": 37,
   "metadata": {},
   "outputs": [
    {
     "data": {
      "text/html": [
       "<div>\n",
       "<style scoped>\n",
       "    .dataframe tbody tr th:only-of-type {\n",
       "        vertical-align: middle;\n",
       "    }\n",
       "\n",
       "    .dataframe tbody tr th {\n",
       "        vertical-align: top;\n",
       "    }\n",
       "\n",
       "    .dataframe thead th {\n",
       "        text-align: right;\n",
       "    }\n",
       "</style>\n",
       "<table border=\"1\" class=\"dataframe\">\n",
       "  <thead>\n",
       "    <tr style=\"text-align: right;\">\n",
       "      <th></th>\n",
       "      <th>count</th>\n",
       "      <th>max_price</th>\n",
       "      <th>min_price</th>\n",
       "      <th>median_price</th>\n",
       "      <th>mean_price</th>\n",
       "      <th>dev</th>\n",
       "    </tr>\n",
       "    <tr>\n",
       "      <th>room_type</th>\n",
       "      <th></th>\n",
       "      <th></th>\n",
       "      <th></th>\n",
       "      <th></th>\n",
       "      <th></th>\n",
       "      <th></th>\n",
       "    </tr>\n",
       "  </thead>\n",
       "  <tbody>\n",
       "    <tr>\n",
       "      <td>Entire home/apt</td>\n",
       "      <td>4329.0</td>\n",
       "      <td>1000.0</td>\n",
       "      <td>9.0</td>\n",
       "      <td>62.0</td>\n",
       "      <td>76.343497</td>\n",
       "      <td>78.195248</td>\n",
       "    </tr>\n",
       "    <tr>\n",
       "      <td>Hotel room</td>\n",
       "      <td>79.0</td>\n",
       "      <td>207.0</td>\n",
       "      <td>30.0</td>\n",
       "      <td>88.0</td>\n",
       "      <td>92.987342</td>\n",
       "      <td>41.706389</td>\n",
       "    </tr>\n",
       "    <tr>\n",
       "      <td>Private room</td>\n",
       "      <td>2328.0</td>\n",
       "      <td>500.0</td>\n",
       "      <td>9.0</td>\n",
       "      <td>30.0</td>\n",
       "      <td>36.051976</td>\n",
       "      <td>21.472129</td>\n",
       "    </tr>\n",
       "    <tr>\n",
       "      <td>Shared room</td>\n",
       "      <td>68.0</td>\n",
       "      <td>130.0</td>\n",
       "      <td>9.0</td>\n",
       "      <td>30.5</td>\n",
       "      <td>39.308824</td>\n",
       "      <td>27.336629</td>\n",
       "    </tr>\n",
       "  </tbody>\n",
       "</table>\n",
       "</div>"
      ],
      "text/plain": [
       "                  count  max_price  min_price  median_price  mean_price  \\\n",
       "room_type                                                                 \n",
       "Entire home/apt  4329.0     1000.0        9.0          62.0   76.343497   \n",
       "Hotel room         79.0      207.0       30.0          88.0   92.987342   \n",
       "Private room     2328.0      500.0        9.0          30.0   36.051976   \n",
       "Shared room        68.0      130.0        9.0          30.5   39.308824   \n",
       "\n",
       "                       dev  \n",
       "room_type                   \n",
       "Entire home/apt  78.195248  \n",
       "Hotel room       41.706389  \n",
       "Private room     21.472129  \n",
       "Shared room      27.336629  "
      ]
     },
     "execution_count": 37,
     "metadata": {},
     "output_type": "execute_result"
    }
   ],
   "source": [
    "df_room_type_ext = df.groupby(\n",
    "     ['room_type']\n",
    "  ).agg(\n",
    "    count=('price', len),\n",
    "    max_price=('price', max),\n",
    "    min_price=('price', min),\n",
    "    median_price=('price', np.median),\n",
    "    mean_price=('price', np.mean),\n",
    "    dev=('price', np.std)\n",
    "  )\n",
    "df_room_type_ext.head(50)"
   ]
  },
  {
   "cell_type": "code",
   "execution_count": 38,
   "metadata": {
    "scrolled": true
   },
   "outputs": [
    {
     "data": {
      "text/html": [
       "<div>\n",
       "<style scoped>\n",
       "    .dataframe tbody tr th:only-of-type {\n",
       "        vertical-align: middle;\n",
       "    }\n",
       "\n",
       "    .dataframe tbody tr th {\n",
       "        vertical-align: top;\n",
       "    }\n",
       "\n",
       "    .dataframe thead th {\n",
       "        text-align: right;\n",
       "    }\n",
       "</style>\n",
       "<table border=\"1\" class=\"dataframe\">\n",
       "  <thead>\n",
       "    <tr style=\"text-align: right;\">\n",
       "      <th></th>\n",
       "      <th>count</th>\n",
       "      <th>max_price</th>\n",
       "      <th>min_price</th>\n",
       "      <th>median_price</th>\n",
       "      <th>mean_price</th>\n",
       "      <th>dev</th>\n",
       "    </tr>\n",
       "    <tr>\n",
       "      <th>neighbourhood_cleansed</th>\n",
       "      <th></th>\n",
       "      <th></th>\n",
       "      <th></th>\n",
       "      <th></th>\n",
       "      <th></th>\n",
       "      <th></th>\n",
       "    </tr>\n",
       "  </thead>\n",
       "  <tbody>\n",
       "    <tr>\n",
       "      <td>Innere Stadt</td>\n",
       "      <td>313.0</td>\n",
       "      <td>1000.0</td>\n",
       "      <td>19.0</td>\n",
       "      <td>98.0</td>\n",
       "      <td>117.089457</td>\n",
       "      <td>107.260071</td>\n",
       "    </tr>\n",
       "    <tr>\n",
       "      <td>Neubau</td>\n",
       "      <td>506.0</td>\n",
       "      <td>450.0</td>\n",
       "      <td>11.0</td>\n",
       "      <td>60.0</td>\n",
       "      <td>65.051383</td>\n",
       "      <td>41.575523</td>\n",
       "    </tr>\n",
       "    <tr>\n",
       "      <td>Mariahilf</td>\n",
       "      <td>362.0</td>\n",
       "      <td>200.0</td>\n",
       "      <td>14.0</td>\n",
       "      <td>59.0</td>\n",
       "      <td>60.823204</td>\n",
       "      <td>28.942616</td>\n",
       "    </tr>\n",
       "    <tr>\n",
       "      <td>Leopoldstadt</td>\n",
       "      <td>740.0</td>\n",
       "      <td>999.0</td>\n",
       "      <td>10.0</td>\n",
       "      <td>55.0</td>\n",
       "      <td>60.860811</td>\n",
       "      <td>54.912092</td>\n",
       "    </tr>\n",
       "    <tr>\n",
       "      <td>Landstraße</td>\n",
       "      <td>620.0</td>\n",
       "      <td>1000.0</td>\n",
       "      <td>10.0</td>\n",
       "      <td>55.0</td>\n",
       "      <td>61.454839</td>\n",
       "      <td>51.273598</td>\n",
       "    </tr>\n",
       "    <tr>\n",
       "      <td>Brigittenau</td>\n",
       "      <td>257.0</td>\n",
       "      <td>125.0</td>\n",
       "      <td>12.0</td>\n",
       "      <td>55.0</td>\n",
       "      <td>55.046693</td>\n",
       "      <td>21.217018</td>\n",
       "    </tr>\n",
       "    <tr>\n",
       "      <td>Wieden</td>\n",
       "      <td>296.0</td>\n",
       "      <td>1000.0</td>\n",
       "      <td>18.0</td>\n",
       "      <td>52.0</td>\n",
       "      <td>65.375000</td>\n",
       "      <td>82.355315</td>\n",
       "    </tr>\n",
       "    <tr>\n",
       "      <td>Donaustadt</td>\n",
       "      <td>170.0</td>\n",
       "      <td>150.0</td>\n",
       "      <td>15.0</td>\n",
       "      <td>50.0</td>\n",
       "      <td>51.600000</td>\n",
       "      <td>25.864325</td>\n",
       "    </tr>\n",
       "    <tr>\n",
       "      <td>Alsergrund</td>\n",
       "      <td>439.0</td>\n",
       "      <td>440.0</td>\n",
       "      <td>9.0</td>\n",
       "      <td>50.0</td>\n",
       "      <td>59.168565</td>\n",
       "      <td>38.384010</td>\n",
       "    </tr>\n",
       "    <tr>\n",
       "      <td>Rudolfsheim-Fünfhaus</td>\n",
       "      <td>448.0</td>\n",
       "      <td>440.0</td>\n",
       "      <td>10.0</td>\n",
       "      <td>49.0</td>\n",
       "      <td>58.064732</td>\n",
       "      <td>52.369517</td>\n",
       "    </tr>\n",
       "  </tbody>\n",
       "</table>\n",
       "</div>"
      ],
      "text/plain": [
       "                        count  max_price  min_price  median_price  mean_price  \\\n",
       "neighbourhood_cleansed                                                          \n",
       "Innere Stadt            313.0     1000.0       19.0          98.0  117.089457   \n",
       "Neubau                  506.0      450.0       11.0          60.0   65.051383   \n",
       "Mariahilf               362.0      200.0       14.0          59.0   60.823204   \n",
       "Leopoldstadt            740.0      999.0       10.0          55.0   60.860811   \n",
       "Landstraße              620.0     1000.0       10.0          55.0   61.454839   \n",
       "Brigittenau             257.0      125.0       12.0          55.0   55.046693   \n",
       "Wieden                  296.0     1000.0       18.0          52.0   65.375000   \n",
       "Donaustadt              170.0      150.0       15.0          50.0   51.600000   \n",
       "Alsergrund              439.0      440.0        9.0          50.0   59.168565   \n",
       "Rudolfsheim-Fünfhaus    448.0      440.0       10.0          49.0   58.064732   \n",
       "\n",
       "                               dev  \n",
       "neighbourhood_cleansed              \n",
       "Innere Stadt            107.260071  \n",
       "Neubau                   41.575523  \n",
       "Mariahilf                28.942616  \n",
       "Leopoldstadt             54.912092  \n",
       "Landstraße               51.273598  \n",
       "Brigittenau              21.217018  \n",
       "Wieden                   82.355315  \n",
       "Donaustadt               25.864325  \n",
       "Alsergrund               38.384010  \n",
       "Rudolfsheim-Fünfhaus     52.369517  "
      ]
     },
     "execution_count": 38,
     "metadata": {},
     "output_type": "execute_result"
    }
   ],
   "source": [
    "df_neighbourhoods_ext = df.groupby(\n",
    "     ['neighbourhood_cleansed']\n",
    "  ).agg(\n",
    "    count=('price', len),\n",
    "    max_price=('price', max),\n",
    "    min_price=('price', min),\n",
    "    median_price=('price', np.median),\n",
    "    mean_price=('price', np.mean),\n",
    "    dev=('price', np.std)\n",
    "  )\n",
    "\n",
    "df_neighbourhoods_ext.sort_values(by=['count'], ascending=False). \\\n",
    "                      sort_values(by=['median_price'], ascending=False).head(10)"
   ]
  },
  {
   "cell_type": "code",
   "execution_count": 39,
   "metadata": {},
   "outputs": [
    {
     "name": "stdout",
     "output_type": "stream",
     "text": [
      "\t\t  6804.0   1000.0     9.0      50.0  62.38081 66.72678\n"
     ]
    }
   ],
   "source": [
    "p = df.price\n",
    "print(\"\\t\\t  %.1f   %.1f     %.1f      %.1f  %.5f %.5f\" % (len(df),p.max(),p.min(),p.median(),p.mean(),p.std()))"
   ]
  }
 ],
 "metadata": {
  "kernelspec": {
   "display_name": "Python 3",
   "language": "python",
   "name": "python3"
  },
  "language_info": {
   "codemirror_mode": {
    "name": "ipython",
    "version": 3
   },
   "file_extension": ".py",
   "mimetype": "text/x-python",
   "name": "python",
   "nbconvert_exporter": "python",
   "pygments_lexer": "ipython3",
   "version": "3.7.4"
  }
 },
 "nbformat": 4,
 "nbformat_minor": 1
}
